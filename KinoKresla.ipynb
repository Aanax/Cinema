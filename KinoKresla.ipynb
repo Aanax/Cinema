{
 "cells": [
  {
   "cell_type": "code",
   "execution_count": 1,
   "metadata": {
    "collapsed": true
   },
   "outputs": [],
   "source": [
    "from sklearn.externals import joblib\n",
    "#al.append(joblib.load(\"/home/aanax/Desktop/kino/кино/X.pkl\"))\n",
    "#al.append(joblib.load(\"/home/aanax/Desktop/kino/кино/X_test.pkl\"))\n",
    "#al.append(joblib.load(\"/home/aanax/Desktop/kino/кино/y.pkl\"))\n",
    "#al.append(joblib.load(\"/home/aanax/Desktop/kino/кино/y_test.pkl\"))"
   ]
  },
  {
   "cell_type": "code",
   "execution_count": 2,
   "metadata": {
    "collapsed": false
   },
   "outputs": [
    {
     "name": "stderr",
     "output_type": "stream",
     "text": [
      "/home/aanax/anaconda3/lib/python3.5/site-packages/ipykernel/__main__.py:1: DeprecationWarning: The file '/home/aanax/Desktop/kino/0.pkl' has been generated with a joblib version less than 0.10. Please regenerate this pickle file.\n",
      "  if __name__ == '__main__':\n",
      "/home/aanax/anaconda3/lib/python3.5/site-packages/ipykernel/__main__.py:2: DeprecationWarning: The file '/home/aanax/Desktop/kino/1.pkl' has been generated with a joblib version less than 0.10. Please regenerate this pickle file.\n",
      "  from ipykernel import kernelapp as app\n",
      "/home/aanax/anaconda3/lib/python3.5/site-packages/ipykernel/__main__.py:3: DeprecationWarning: The file '/home/aanax/Desktop/kino/2.pkl' has been generated with a joblib version less than 0.10. Please regenerate this pickle file.\n",
      "  app.launch_new_instance()\n",
      "/home/aanax/anaconda3/lib/python3.5/site-packages/ipykernel/__main__.py:4: DeprecationWarning: The file '/home/aanax/Desktop/kino/3.pkl' has been generated with a joblib version less than 0.10. Please regenerate this pickle file.\n"
     ]
    }
   ],
   "source": [
    "X = joblib.load(\"/home/aanax/Desktop/kino/0.pkl\")\n",
    "X_test = joblib.load(\"/home/aanax/Desktop/kino/1.pkl\")\n",
    "y = joblib.load(\"/home/aanax/Desktop/kino/2.pkl\")\n",
    "y_test = joblib.load(\"/home/aanax/Desktop/kino/3.pkl\")"
   ]
  },
  {
   "cell_type": "code",
   "execution_count": 3,
   "metadata": {
    "collapsed": true
   },
   "outputs": [],
   "source": [
    "from PIL import Image"
   ]
  },
  {
   "cell_type": "code",
   "execution_count": 4,
   "metadata": {
    "collapsed": false
   },
   "outputs": [],
   "source": [
    "def showpic(digit,multiplier=1,size=200):\n",
    "    tstimage1= Image.fromarray(digit.reshape((30,20)) * multiplier)\n",
    "    tstimage1 = tstimage1.convert('L')\n",
    "    tstimage1 = tstimage1.resize((size,size))\n",
    "    tstimage1.show()"
   ]
  },
  {
   "cell_type": "code",
   "execution_count": 5,
   "metadata": {
    "collapsed": false
   },
   "outputs": [],
   "source": [
    "#import math\n",
    "#math.sqrt(shape[0])"
   ]
  },
  {
   "cell_type": "code",
   "execution_count": 6,
   "metadata": {
    "collapsed": false
   },
   "outputs": [
    {
     "data": {
      "text/plain": [
       "(600,)"
      ]
     },
     "execution_count": 6,
     "metadata": {},
     "output_type": "execute_result"
    }
   ],
   "source": [
    "X[0].shape"
   ]
  },
  {
   "cell_type": "code",
   "execution_count": 7,
   "metadata": {
    "collapsed": false
   },
   "outputs": [],
   "source": [
    "def crop_showpic(digit,multiplier=1,size=200):\n",
    "    tstimage1= Image.fromarray(digit.reshape((20,20)) * multiplier)\n",
    "    tstimage1 = tstimage1.convert('L')\n",
    "    tstimage1 = tstimage1.resize((size,size))\n",
    "    tstimage1.show()"
   ]
  },
  {
   "cell_type": "code",
   "execution_count": 8,
   "metadata": {
    "collapsed": false
   },
   "outputs": [],
   "source": [
    "#for i in X:\n",
    "from copy import copy\n",
    "eee = copy(X[5].reshape((30,20)))\n",
    "eee.resize((20,20))\n",
    "#crop_showpic(X[293])"
   ]
  },
  {
   "cell_type": "code",
   "execution_count": 9,
   "metadata": {
    "collapsed": false
   },
   "outputs": [],
   "source": [
    "showpic(X[5])\n",
    "crop_showpic(eee)"
   ]
  },
  {
   "cell_type": "code",
   "execution_count": 10,
   "metadata": {
    "collapsed": true
   },
   "outputs": [],
   "source": [
    "import numpy as np"
   ]
  },
  {
   "cell_type": "code",
   "execution_count": 9,
   "metadata": {
    "collapsed": false
   },
   "outputs": [],
   "source": [
    "tst = np.zeros(X[0].shape)"
   ]
  },
  {
   "cell_type": "code",
   "execution_count": 10,
   "metadata": {
    "collapsed": false
   },
   "outputs": [
    {
     "data": {
      "text/plain": [
       "0.0"
      ]
     },
     "execution_count": 10,
     "metadata": {},
     "output_type": "execute_result"
    }
   ],
   "source": [
    "tst.mean()"
   ]
  },
  {
   "cell_type": "code",
   "execution_count": 11,
   "metadata": {
    "collapsed": false
   },
   "outputs": [],
   "source": [
    "y = list(y)#np.array(y)"
   ]
  },
  {
   "cell_type": "code",
   "execution_count": 12,
   "metadata": {
    "collapsed": false
   },
   "outputs": [],
   "source": [
    "#2 - pusto"
   ]
  },
  {
   "cell_type": "code",
   "execution_count": 13,
   "metadata": {
    "collapsed": false
   },
   "outputs": [
    {
     "ename": "NameError",
     "evalue": "name 'means' is not defined",
     "output_type": "error",
     "traceback": [
      "\u001b[1;31m---------------------------------------------------------------------------\u001b[0m",
      "\u001b[1;31mNameError\u001b[0m                                 Traceback (most recent call last)",
      "\u001b[1;32m<ipython-input-13-2f04968cf6ec>\u001b[0m in \u001b[0;36m<module>\u001b[1;34m()\u001b[0m\n\u001b[1;32m----> 1\u001b[1;33m \u001b[0mmeans\u001b[0m\u001b[1;33m[\u001b[0m\u001b[1;36m1\u001b[0m\u001b[1;33m]\u001b[0m\u001b[1;33m\u001b[0m\u001b[0m\n\u001b[0m",
      "\u001b[1;31mNameError\u001b[0m: name 'means' is not defined"
     ]
    }
   ],
   "source": [
    "means[1]"
   ]
  },
  {
   "cell_type": "code",
   "execution_count": 59,
   "metadata": {
    "collapsed": true
   },
   "outputs": [],
   "source": [
    "means = []\n",
    "for pic in X:\n",
    "    means.append(np.array(pic).mean())"
   ]
  },
  {
   "cell_type": "code",
   "execution_count": 82,
   "metadata": {
    "collapsed": false
   },
   "outputs": [],
   "source": [
    "test_p = []\n",
    "for me in means:\n",
    "    if me > 159:#np.array(means).mean():\n",
    "        test_p.append(2)\n",
    "    else:\n",
    "        test_p.append(1)"
   ]
  },
  {
   "cell_type": "code",
   "execution_count": 14,
   "metadata": {
    "collapsed": false
   },
   "outputs": [],
   "source": [
    "def eval(test_p,y,ver,wrong):\n",
    "    t = 0\n",
    "    fp=0\n",
    "    fn=0\n",
    "    tp=0\n",
    "    tn=0\n",
    "    fals = max(y)\n",
    "    tru =min(y)\n",
    "    kkk = -1\n",
    "    for i,j in zip(test_p,y):\n",
    "        kkk+=1\n",
    "        if i==j:\n",
    "            t+=1\n",
    "            if i > tru:\n",
    "                tn +=1\n",
    "            if i < fals:\n",
    "                tp+=1\n",
    "            \n",
    "        if i>j:\n",
    "            fn+=1\n",
    "            wrong.append(kkk)\n",
    "        if i<j:\n",
    "            fp+=1\n",
    "            wrong.append(kkk)\n",
    "    #print(\"true\",t)\n",
    "    if ver!=0:\n",
    "        print(\" fn \",fn,\" fp \",fp,\" tn \",tn,\" tp \",tp,\" acc \",float(t)/len(y))\n",
    "\n",
    "    return (float(t)/len(y))"
   ]
  },
  {
   "cell_type": "code",
   "execution_count": 307,
   "metadata": {
    "collapsed": true
   },
   "outputs": [],
   "source": [
    "grads = []\n",
    "for pic in X:\n",
    "    grads.append(np.gradient(pic,2))\n",
    "    \n",
    "grads_test = []\n",
    "for pic in X_test:\n",
    "    grads_test.append(np.gradient(pic,2))"
   ]
  },
  {
   "cell_type": "code",
   "execution_count": 15,
   "metadata": {
    "collapsed": false
   },
   "outputs": [],
   "source": [
    "def threshme(test_p,X,thresh):\n",
    "#test_p = []\n",
    "    for me in X:#[mgrads[i].sum() for i in range(len(mgrads))]:\n",
    "        if me < thresh: #np.array(grads).mean():\n",
    "            test_p.append(2)\n",
    "        else:\n",
    "            test_p.append(1)"
   ]
  },
  {
   "cell_type": "code",
   "execution_count": 251,
   "metadata": {
    "collapsed": true
   },
   "outputs": [],
   "source": [
    "p = []\n",
    "thresh(p,grads,18000)"
   ]
  },
  {
   "cell_type": "code",
   "execution_count": 252,
   "metadata": {
    "collapsed": false
   },
   "outputs": [
    {
     "name": "stdout",
     "output_type": "stream",
     "text": [
      "true 350\n",
      "fn 109\n",
      "fp 77\n",
      "0.6529850746268657\n"
     ]
    }
   ],
   "source": [
    "eval(p)"
   ]
  },
  {
   "cell_type": "code",
   "execution_count": 122,
   "metadata": {
    "collapsed": false
   },
   "outputs": [
    {
     "name": "stderr",
     "output_type": "stream",
     "text": [
      "Using Theano backend.\n"
     ]
    }
   ],
   "source": [
    "from keras.models import Model, Sequential\n",
    "from keras.layers import Flatten,Dropout, Dense, Input,merge\n",
    "from keras.layers.convolutional import Convolution2D, Deconvolution2D, UpSampling2D, MaxPooling2D\n",
    "from keras.layers.core import Reshape"
   ]
  },
  {
   "cell_type": "code",
   "execution_count": 125,
   "metadata": {
    "collapsed": false
   },
   "outputs": [],
   "source": [
    "ymodel = np.array(y)-1"
   ]
  },
  {
   "cell_type": "code",
   "execution_count": 177,
   "metadata": {
    "collapsed": false
   },
   "outputs": [],
   "source": [
    "model = Sequential()\n",
    "model.add(Dense(600,activation = 'sigmoid' ,input_shape = (600,)))\n",
    "model.add(Dense(200,activation = 'sigmoid'))\n",
    "model.add(Dense(200,activation = 'sigmoid'))\n",
    "model.add(Dense(200,activation = 'sigmoid'))\n",
    "model.add(Dense(60,activation = 'sigmoid'))\n",
    "model.add(Dense(1,activation = 'softmax'))\n",
    "\n"
   ]
  },
  {
   "cell_type": "code",
   "execution_count": 208,
   "metadata": {
    "collapsed": false
   },
   "outputs": [],
   "source": [
    "model.compile(\"adam\",loss = \"binary_crossentropy\", metrics = [\"accuracy\"])"
   ]
  },
  {
   "cell_type": "code",
   "execution_count": 270,
   "metadata": {
    "collapsed": true
   },
   "outputs": [],
   "source": [
    "model1 = Sequential()\n",
    "model1.add(Dense(1,activation = 'sigmoid' ,input_shape = (1,)))\n",
    "#model1.add(Dense(1,activation = 'sigmoid'))"
   ]
  },
  {
   "cell_type": "code",
   "execution_count": 271,
   "metadata": {
    "collapsed": true
   },
   "outputs": [],
   "source": [
    "model1.compile(\"rmsprop\",loss = \"mse\", metrics = [\"accuracy\"])"
   ]
  },
  {
   "cell_type": "code",
   "execution_count": 179,
   "metadata": {
    "collapsed": false
   },
   "outputs": [],
   "source": [
    "mgrads = np.array(grads)"
   ]
  },
  {
   "cell_type": "code",
   "execution_count": 480,
   "metadata": {
    "collapsed": false
   },
   "outputs": [],
   "source": [
    "#model1.fit(np.array([mgrads[i].sum() for i in range(len(mgrads))]),ymodel, nb_epoch = 10)#000, verbose=0)"
   ]
  },
  {
   "cell_type": "code",
   "execution_count": 231,
   "metadata": {
    "collapsed": true
   },
   "outputs": [],
   "source": [
    "from sklearn import linear_model"
   ]
  },
  {
   "cell_type": "code",
   "execution_count": 232,
   "metadata": {
    "collapsed": true
   },
   "outputs": [],
   "source": [
    "clf = linear_model.SGDClassifier()"
   ]
  },
  {
   "cell_type": "code",
   "execution_count": 243,
   "metadata": {
    "collapsed": false
   },
   "outputs": [
    {
     "data": {
      "text/plain": [
       "SGDClassifier(alpha=0.0001, average=False, class_weight=None, epsilon=0.1,\n",
       "       eta0=0.0, fit_intercept=True, l1_ratio=0.15,\n",
       "       learning_rate='optimal', loss='hinge', n_iter=5, n_jobs=1,\n",
       "       penalty='l2', power_t=0.5, random_state=None, shuffle=True,\n",
       "       verbose=0, warm_start=False)"
      ]
     },
     "execution_count": 243,
     "metadata": {},
     "output_type": "execute_result"
    }
   ],
   "source": [
    "clf.fit(np.array([[mgrads[i].sum(),0] for i in range(len(mgrads))]),ymodel)"
   ]
  },
  {
   "cell_type": "code",
   "execution_count": 244,
   "metadata": {
    "collapsed": false
   },
   "outputs": [
    {
     "name": "stdout",
     "output_type": "stream",
     "text": [
      "true 200\n",
      "fn 0\n",
      "fp 336\n",
      "0.373134328358209\n"
     ]
    }
   ],
   "source": [
    "eval(clf.predict(np.array([[mgrads[i].sum(),0] for i in range(len(mgrads))]))+1) "
   ]
  },
  {
   "cell_type": "code",
   "execution_count": 247,
   "metadata": {
    "collapsed": false
   },
   "outputs": [],
   "source": [
    "GRAD = np.array([mgrads[i].sum() for i in range(len(mgrads))])"
   ]
  },
  {
   "cell_type": "code",
   "execution_count": 261,
   "metadata": {
    "collapsed": false
   },
   "outputs": [],
   "source": [
    "btrash = 0\n",
    "mmax = 0\n",
    "for thresh in np.linspace(min(GRAD),max(GRAD),10000):\n",
    "    p=[]\n",
    "    threshme(p,GRAD,thresh)\n",
    "    qual = eval(p)\n",
    "    if qual > mmax:\n",
    "        mmax = qual\n",
    "        btrash = thresh"
   ]
  },
  {
   "cell_type": "code",
   "execution_count": 263,
   "metadata": {
    "collapsed": false
   },
   "outputs": [
    {
     "data": {
      "text/plain": [
       "0.6958955223880597"
      ]
     },
     "execution_count": 263,
     "metadata": {},
     "output_type": "execute_result"
    }
   ],
   "source": [
    "mmax"
   ]
  },
  {
   "cell_type": "code",
   "execution_count": 479,
   "metadata": {
    "collapsed": false
   },
   "outputs": [],
   "source": [
    "#ymodel"
   ]
  },
  {
   "cell_type": "code",
   "execution_count": 478,
   "metadata": {
    "collapsed": false
   },
   "outputs": [],
   "source": [
    "#for i,j in zip([mgrads[i].sum() for i in range(len(mgrads))],ymodel):\n",
    "#    print(i,\"__\",j)"
   ]
  },
  {
   "cell_type": "code",
   "execution_count": 290,
   "metadata": {
    "collapsed": false
   },
   "outputs": [
    {
     "name": "stdout",
     "output_type": "stream",
     "text": [
      " fn  20  fp  63  acc  0.6902985074626866\n"
     ]
    },
    {
     "data": {
      "text/plain": [
       "0.6902985074626866"
      ]
     },
     "execution_count": 290,
     "metadata": {},
     "output_type": "execute_result"
    }
   ],
   "source": [
    "p=[]\n",
    "threshme(p,grads_test,btrash)\n",
    "eval(p,y_test,1)"
   ]
  },
  {
   "cell_type": "code",
   "execution_count": 67,
   "metadata": {
    "collapsed": false
   },
   "outputs": [
    {
     "name": "stderr",
     "output_type": "stream",
     "text": [
      "/home/aanax/anaconda3/lib/python3.5/site-packages/sklearn/cross_validation.py:44: DeprecationWarning: This module was deprecated in version 0.18 in favor of the model_selection module into which all the refactored classes and functions are moved. Also note that the interface of the new CV iterators are different from that of this module. This module will be removed in 0.20.\n",
      "  \"This module will be removed in 0.20.\", DeprecationWarning)\n"
     ]
    }
   ],
   "source": [
    "import xgboost as xgb\n"
   ]
  },
  {
   "cell_type": "code",
   "execution_count": 377,
   "metadata": {
    "collapsed": false
   },
   "outputs": [
    {
     "name": "stdout",
     "output_type": "stream",
     "text": [
      "[0]\tval_0-auc:0.838424\n",
      "Will train until val_0-auc hasn't improved in 50 rounds.\n",
      "Stopping. Best iteration:\n",
      "[4]\tval_0-auc:0.87122\n",
      "\n"
     ]
    }
   ],
   "source": [
    "\n",
    "boosters = []\n",
    "n_boosters = 1\n",
    "\n",
    "for i in range(0, n_boosters):\n",
    "    #Xtr, Xval, Ytr, Yval = train_test_split(X_train, Y_train, test_size=0.2)#,random_state=4455)\n",
    "    dmat_train = xgb.DMatrix(X, np.array(y)-1)\n",
    "    dmat_test = xgb.DMatrix(X_test, np.array(y_test)-1)\n",
    "    \n",
    "    params = {\"objective\": \"binary:logistic\",\n",
    "              \n",
    "          \"eta\": 0.001,\n",
    "          \"max_depth\": 5,\n",
    "          \"eval_metric\": \"auc\", }\n",
    "    bst1 = xgb.train(dtrain=dmat_train, params=params, num_boost_round=100000, early_stopping_rounds=50, verbose_eval=100, evals=[(dmat_test, \"val_0\")])\n",
    "    \n",
    "    boosters.append(bst)"
   ]
  },
  {
   "cell_type": "code",
   "execution_count": 617,
   "metadata": {
    "collapsed": true
   },
   "outputs": [],
   "source": [
    "grads = []\n",
    "grads_test = []"
   ]
  },
  {
   "cell_type": "code",
   "execution_count": 623,
   "metadata": {
    "collapsed": false
   },
   "outputs": [],
   "source": []
  },
  {
   "cell_type": "code",
   "execution_count": null,
   "metadata": {
    "collapsed": false
   },
   "outputs": [],
   "source": []
  },
  {
   "cell_type": "code",
   "execution_count": 568,
   "metadata": {
    "collapsed": true
   },
   "outputs": [],
   "source": [
    "gradssums = []\n",
    "for pic in X:\n",
    "    gradssums.append(list(np.gradient(pic,2)) + [pic.sum()])\n",
    "gradssums_test = []\n",
    "for pic in X_test:\n",
    "    gradssums_test.append(list(np.gradient(pic,2)) + [pic.sum()])\n",
    "        "
   ]
  },
  {
   "cell_type": "code",
   "execution_count": 569,
   "metadata": {
    "collapsed": false
   },
   "outputs": [
    {
     "data": {
      "text/plain": [
       "(536, 601)"
      ]
     },
     "execution_count": 569,
     "metadata": {},
     "output_type": "execute_result"
    }
   ],
   "source": [
    "np.array(gradssums).shape"
   ]
  },
  {
   "cell_type": "code",
   "execution_count": 597,
   "metadata": {
    "collapsed": false
   },
   "outputs": [
    {
     "name": "stdout",
     "output_type": "stream",
     "text": [
      "(536, 600)\n"
     ]
    },
    {
     "data": {
      "text/plain": [
       "(536,)"
      ]
     },
     "execution_count": 597,
     "metadata": {},
     "output_type": "execute_result"
    }
   ],
   "source": [
    "print(np.array(grads).shape)\n",
    "np.array(sums).shape"
   ]
  },
  {
   "cell_type": "code",
   "execution_count": 596,
   "metadata": {
    "collapsed": false
   },
   "outputs": [
    {
     "data": {
      "text/plain": [
       "(536, 600)"
      ]
     },
     "execution_count": 596,
     "metadata": {},
     "output_type": "execute_result"
    }
   ],
   "source": [
    "np.array(grads).shape"
   ]
  },
  {
   "cell_type": "code",
   "execution_count": 572,
   "metadata": {
    "collapsed": false
   },
   "outputs": [],
   "source": [
    "#np.array(grads).reshape(-1,np.array(grads).shape[0])[0]"
   ]
  },
  {
   "cell_type": "code",
   "execution_count": 573,
   "metadata": {
    "collapsed": true
   },
   "outputs": [],
   "source": [
    "gradssums=np.array(gradssums)\n",
    "gradssums_test = np.array(gradssums_test)"
   ]
  },
  {
   "cell_type": "code",
   "execution_count": 27,
   "metadata": {
    "collapsed": false
   },
   "outputs": [
    {
     "name": "stdout",
     "output_type": "stream",
     "text": [
      "(536, 600)\n"
     ]
    },
    {
     "data": {
      "text/plain": [
       "(268, 600)"
      ]
     },
     "execution_count": 27,
     "metadata": {},
     "output_type": "execute_result"
    }
   ],
   "source": [
    "print(X.shape)\n",
    "X_test.shape"
   ]
  },
  {
   "cell_type": "code",
   "execution_count": 30,
   "metadata": {
    "collapsed": false
   },
   "outputs": [],
   "source": [
    "allx = np.vstack((X,X_test)) "
   ]
  },
  {
   "cell_type": "code",
   "execution_count": 100,
   "metadata": {
    "collapsed": false
   },
   "outputs": [],
   "source": [
    "y_tst = y_test\n",
    "ones = list(y_tst).count(1)\n",
    "twos = list(y_tst).count(2)\n",
    "nones = 0\n",
    "ntwos = 0\n",
    "todel = []\n",
    "for i in range(len(y_tst)):\n",
    "    #if y_test[i] == 1:\n",
    "    #    nones += 1\n",
    "    if y_test[i] == 2:\n",
    "        ntwos += 1\n",
    "        if ntwos > ones:\n",
    "            todel.append(i)\n",
    "y_tst = np.delete(y_tst,todel)\n",
    "X_tst = np.delete(X_test,todel,0)        \n",
    "    "
   ]
  },
  {
   "cell_type": "code",
   "execution_count": 101,
   "metadata": {
    "collapsed": false
   },
   "outputs": [],
   "source": [
    "ones = list(y_tst).count(1)\n",
    "twos = list(y_tst).count(2)"
   ]
  },
  {
   "cell_type": "code",
   "execution_count": 102,
   "metadata": {
    "collapsed": false
   },
   "outputs": [
    {
     "data": {
      "text/plain": [
       "(190, 600)"
      ]
     },
     "execution_count": 102,
     "metadata": {},
     "output_type": "execute_result"
    }
   ],
   "source": [
    "X_tst.shape"
   ]
  },
  {
   "cell_type": "code",
   "execution_count": 87,
   "metadata": {
    "collapsed": false
   },
   "outputs": [],
   "source": [
    "#X = X/float(X.max())"
   ]
  },
  {
   "cell_type": "code",
   "execution_count": 89,
   "metadata": {
    "collapsed": true
   },
   "outputs": [],
   "source": [
    "#X_test = X_test/float(X.max())"
   ]
  },
  {
   "cell_type": "code",
   "execution_count": 90,
   "metadata": {
    "collapsed": true
   },
   "outputs": [],
   "source": [
    "#X_tst = X_tst/float(X.max())"
   ]
  },
  {
   "cell_type": "code",
   "execution_count": 85,
   "metadata": {
    "collapsed": false
   },
   "outputs": [
    {
     "data": {
      "text/plain": [
       "255"
      ]
     },
     "execution_count": 85,
     "metadata": {},
     "output_type": "execute_result"
    }
   ],
   "source": [
    "X.max()"
   ]
  },
  {
   "cell_type": "code",
   "execution_count": 141,
   "metadata": {
    "collapsed": true
   },
   "outputs": [],
   "source": [
    "# import the necessary packages\n",
    "from skimage import feature\n",
    "import numpy as np\n",
    " \n",
    "class LocalBinaryPatterns:\n",
    "\tdef __init__(self, numPoints, radius):\n",
    "\t\t# store the number of points and radius\n",
    "\t\tself.numPoints = numPoints\n",
    "\t\tself.radius = radius\n",
    " \n",
    "\tdef describe(self, image, eps=1e-7):\n",
    "\t\t# compute the Local Binary Pattern representation\n",
    "\t\t# of the image, and then use the LBP representation\n",
    "\t\t# to build the histogram of patterns\n",
    "\t\tlbp = feature.local_binary_pattern(image, self.numPoints,\n",
    "\t\t\tself.radius, method=\"uniform\")\n",
    "\t\t(hist, _) = np.histogram(lbp.ravel(),\n",
    "\t\t\tbins=np.arange(0, self.numPoints + 3),\n",
    "\t\t\trange=(0, self.numPoints + 2))\n",
    " \n",
    "\t\t# normalize the histogram\n",
    "\t\thist = hist.astype(\"float\")\n",
    "\t\thist /= (hist.sum() + eps)\n",
    " \n",
    "\t\t# return the histogram of Local Binary Patterns\n",
    "\t\treturn hist"
   ]
  },
  {
   "cell_type": "code",
   "execution_count": 142,
   "metadata": {
    "collapsed": true
   },
   "outputs": [],
   "source": [
    "desc = LocalBinaryPatterns(24, 8)"
   ]
  },
  {
   "cell_type": "code",
   "execution_count": 145,
   "metadata": {
    "collapsed": false
   },
   "outputs": [],
   "source": [
    "#data.append(hist)\n",
    "\n",
    "hist = desc.describe(X[0].reshape((30,20)))"
   ]
  },
  {
   "cell_type": "code",
   "execution_count": 146,
   "metadata": {
    "collapsed": false
   },
   "outputs": [
    {
     "data": {
      "text/plain": [
       "array([ 0.12166667,  0.04833333,  0.02666667,  0.02166667,  0.01833333,\n",
       "        0.03833333,  0.02833333,  0.04166667,  0.08333333,  0.07666667,\n",
       "        0.075     ,  0.05333333,  0.025     ,  0.02333333,  0.015     ,\n",
       "        0.015     ,  0.01166667,  0.005     ,  0.        ,  0.        ,\n",
       "        0.        ,  0.        ,  0.        ,  0.        ,  0.        ,\n",
       "        0.27166667])"
      ]
     },
     "execution_count": 146,
     "metadata": {},
     "output_type": "execute_result"
    }
   ],
   "source": [
    "hist"
   ]
  },
  {
   "cell_type": "code",
   "execution_count": 155,
   "metadata": {
    "collapsed": false
   },
   "outputs": [],
   "source": [
    "grads = []\n",
    "for pic in X:\n",
    "    grads.append(list(np.gradient(pic, 1)) + [ndimage.fourier.fourier_ellipsoid(pic,3).sum(),ndimage.center_of_mass(pic)[0], ndimage.extrema(pic)[3][0], pic.reshape((30,20)).diagonal().sum(), pic.reshape((30,20)).diagonal(offset=1).sum() ] + list(ndimage.gaussian_laplace(pic,2.7))   )#+ list(desc.describe(pic.reshape((30,20)))))\n",
    "    \n",
    "grads_test = []\n",
    "for pic in X_tst:\n",
    "    grads_test.append(list(np.gradient(pic, 1))+ [ndimage.fourier.fourier_ellipsoid(pic,3).sum(), ndimage.center_of_mass(pic)[0], ndimage.extrema(pic)[2][0], pic.reshape((30,20)).diagonal().sum(), pic.reshape((30,20)).diagonal(offset=1).sum()] + list(ndimage.gaussian_laplace(pic,2.7)) ) # + list(desc.describe(pic.reshape((30,20)))) )"
   ]
  },
  {
   "cell_type": "code",
   "execution_count": 134,
   "metadata": {
    "collapsed": false
   },
   "outputs": [
    {
     "data": {
      "text/plain": [
       "array([ 78, 105, 147, 159, 162, 166, 166, 159, 148, 134, 130, 123, 121,\n",
       "       122, 121, 120, 131, 134, 137, 139], dtype=uint8)"
      ]
     },
     "execution_count": 134,
     "metadata": {},
     "output_type": "execute_result"
    }
   ],
   "source": [
    "#grads[0\n",
    "X[0].reshape((30,20)).diagonal(offset = 1,axis1=1,axis2=0)"
   ]
  },
  {
   "cell_type": "code",
   "execution_count": 858,
   "metadata": {
    "collapsed": false
   },
   "outputs": [],
   "source": [
    "#np.array(grads).reshape(536,1200)\n",
    "showpic(X[0])\n",
    "showpic(ndimage.gaussian_laplace(X[0],2.5))"
   ]
  },
  {
   "cell_type": "code",
   "execution_count": 785,
   "metadata": {
    "collapsed": false
   },
   "outputs": [
    {
     "data": {
      "text/plain": [
       "51510.572731328699"
      ]
     },
     "execution_count": 785,
     "metadata": {},
     "output_type": "execute_result"
    }
   ],
   "source": [
    "grads[0][-1]"
   ]
  },
  {
   "cell_type": "code",
   "execution_count": 156,
   "metadata": {
    "collapsed": false
   },
   "outputs": [],
   "source": [
    "grads = np.array(grads)#.reshape(536,600+1)\n",
    "grads_test = np.array(grads_test)#.reshape(np.array(grads_test).shape[0],1+np.array(grads_test).shape[2])"
   ]
  },
  {
   "cell_type": "code",
   "execution_count": 17,
   "metadata": {
    "collapsed": true
   },
   "outputs": [],
   "source": [
    "from scipy import ndimage #import filters"
   ]
  },
  {
   "cell_type": "code",
   "execution_count": 18,
   "metadata": {
    "collapsed": false
   },
   "outputs": [],
   "source": [
    "aaa = ndimage.find_objects(X[0].reshape(30,20))"
   ]
  },
  {
   "cell_type": "code",
   "execution_count": 749,
   "metadata": {
    "collapsed": false
   },
   "outputs": [
    {
     "data": {
      "text/plain": [
       "array([[127, 147, 157, 161, 164, 164, 162, 167],\n",
       "       [140, 154, 159, 162, 165, 167, 166, 164],\n",
       "       [154, 162, 162, 162, 165, 168, 168, 163],\n",
       "       [162, 166, 164, 163, 166, 167, 165, 166],\n",
       "       [166, 169, 167, 165, 167, 166, 163, 164],\n",
       "       [169, 169, 165, 163, 165, 163, 159, 156],\n",
       "       [167, 162, 153, 151, 154, 154, 151, 148],\n",
       "       [164, 153, 141, 137, 142, 144, 142, 144]], dtype=uint8)"
      ]
     },
     "execution_count": 749,
     "metadata": {},
     "output_type": "execute_result"
    }
   ],
   "source": [
    "X[0].reshape(30,20)[aaa[-6]]"
   ]
  },
  {
   "cell_type": "code",
   "execution_count": 756,
   "metadata": {
    "collapsed": false
   },
   "outputs": [],
   "source": [
    "#ndimage.fourier.fourier_ellipsoid(X[0],3)"
   ]
  },
  {
   "cell_type": "code",
   "execution_count": 157,
   "metadata": {
    "collapsed": false
   },
   "outputs": [
    {
     "name": "stdout",
     "output_type": "stream",
     "text": [
      "[0]\tval_0-auc:0.985873\n",
      "Will train until val_0-auc hasn't improved in 50 rounds.\n",
      "[100]\tval_0-auc:0.996676\n",
      "Stopping. Best iteration:\n",
      "[113]\tval_0-auc:0.997895\n",
      "\n"
     ]
    }
   ],
   "source": [
    "from sklearn.model_selection import train_test_split\n",
    "boosters = []\n",
    "n_boosters = 1\n",
    "\n",
    "for i in range(0, n_boosters):\n",
    "    #Xtr, Xval, Ytr, Yval = train_test_split(grads, np.array(y)-1, test_size=0.2)#,random_state=4455)\n",
    "    dmat_train = xgb.DMatrix(grads, np.array(y)-1)\n",
    "    dmat_test = xgb.DMatrix((grads_test), np.array(y_tst)-1)\n",
    "    #dmat_train = xgb.DMatrix(Xtr,Ytr)\n",
    "    #dmat_test = xgb.DMatrix(Xval,Yval)\n",
    "        \n",
    "    params = {\"objective\": \"binary:logistic\",\n",
    "                \n",
    "          \"eta\": 0.001,\n",
    "          \"lambda\": 5,\n",
    "          \"alpha\": 5,\n",
    "          \"max_depth\": 10,\n",
    "          \"eval_metric\": \"auc\", }\n",
    "    bst = xgb.train(dtrain=dmat_train, params=params, num_boost_round=100000, early_stopping_rounds=50, verbose_eval=100, evals=[(dmat_test, \"val_0\")])\n",
    "    \n",
    "    boosters.append(bst)"
   ]
  },
  {
   "cell_type": "code",
   "execution_count": 158,
   "metadata": {
    "collapsed": false
   },
   "outputs": [],
   "source": [
    "preds = np.array([bst.predict(xgb.DMatrix(grads_test)) for bst in boosters])\n",
    "preds = np.mean(preds, axis=0)"
   ]
  },
  {
   "cell_type": "code",
   "execution_count": 159,
   "metadata": {
    "collapsed": false
   },
   "outputs": [],
   "source": [
    "p=[]\n",
    "#threshme(p,bst.predict(xgb.DMatrix(grads_test)),0.5)\n",
    "threshme(p,preds,0.5)"
   ]
  },
  {
   "cell_type": "code",
   "execution_count": 160,
   "metadata": {
    "collapsed": false
   },
   "outputs": [
    {
     "name": "stdout",
     "output_type": "stream",
     "text": [
      " fn  0  fp  6  tn  89  tp  95  acc  0.968421052631579\n"
     ]
    },
    {
     "data": {
      "text/plain": [
       "0.968421052631579"
      ]
     },
     "execution_count": 160,
     "metadata": {},
     "output_type": "execute_result"
    }
   ],
   "source": [
    "wrong=[]\n",
    "eval(np.array(p)-1,(np.array(y_tst)-2)*-1,1,wrong)"
   ]
  },
  {
   "cell_type": "code",
   "execution_count": 161,
   "metadata": {
    "collapsed": false
   },
   "outputs": [
    {
     "data": {
      "text/plain": [
       "[42, 68, 95, 162, 176, 183]"
      ]
     },
     "execution_count": 161,
     "metadata": {},
     "output_type": "execute_result"
    }
   ],
   "source": [
    "wrong"
   ]
  },
  {
   "cell_type": "code",
   "execution_count": 164,
   "metadata": {
    "collapsed": true
   },
   "outputs": [],
   "source": [
    "for i in wrong:\n",
    "    showpic(X[i])"
   ]
  },
  {
   "cell_type": "code",
   "execution_count": null,
   "metadata": {
    "collapsed": true
   },
   "outputs": [],
   "source": [
    "#TRY ANSAMBLE WITH GRADSSUMS"
   ]
  },
  {
   "cell_type": "code",
   "execution_count": null,
   "metadata": {
    "collapsed": true
   },
   "outputs": [],
   "source": []
  }
 ],
 "metadata": {
  "anaconda-cloud": {},
  "kernelspec": {
   "display_name": "Python [Root]",
   "language": "python",
   "name": "Python [Root]"
  },
  "language_info": {
   "codemirror_mode": {
    "name": "ipython",
    "version": 3
   },
   "file_extension": ".py",
   "mimetype": "text/x-python",
   "name": "python",
   "nbconvert_exporter": "python",
   "pygments_lexer": "ipython3",
   "version": "3.5.2"
  }
 },
 "nbformat": 4,
 "nbformat_minor": 0
}
