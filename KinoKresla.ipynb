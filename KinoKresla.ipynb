{
 "cells": [
  {
   "cell_type": "code",
   "execution_count": 1,
   "metadata": {
    "collapsed": true
   },
   "outputs": [],
   "source": [
    "from sklearn.externals import joblib\n",
    "import numpy as np\n",
    "from PIL import Image"
   ]
  },
  {
   "cell_type": "code",
   "execution_count": 2,
   "metadata": {
    "collapsed": false
   },
   "outputs": [
    {
     "name": "stderr",
     "output_type": "stream",
     "text": [
      "/home/aanax/anaconda3/lib/python3.5/site-packages/ipykernel/__main__.py:1: DeprecationWarning: The file '/home/aanax/Desktop/kino/0.pkl' has been generated with a joblib version less than 0.10. Please regenerate this pickle file.\n",
      "  if __name__ == '__main__':\n",
      "/home/aanax/anaconda3/lib/python3.5/site-packages/ipykernel/__main__.py:2: DeprecationWarning: The file '/home/aanax/Desktop/kino/1.pkl' has been generated with a joblib version less than 0.10. Please regenerate this pickle file.\n",
      "  from ipykernel import kernelapp as app\n",
      "/home/aanax/anaconda3/lib/python3.5/site-packages/ipykernel/__main__.py:3: DeprecationWarning: The file '/home/aanax/Desktop/kino/2.pkl' has been generated with a joblib version less than 0.10. Please regenerate this pickle file.\n",
      "  app.launch_new_instance()\n",
      "/home/aanax/anaconda3/lib/python3.5/site-packages/ipykernel/__main__.py:4: DeprecationWarning: The file '/home/aanax/Desktop/kino/3.pkl' has been generated with a joblib version less than 0.10. Please regenerate this pickle file.\n"
     ]
    }
   ],
   "source": [
    "X = joblib.load(\"/home/aanax/Desktop/kino/0.pkl\")\n",
    "X_test = joblib.load(\"/home/aanax/Desktop/kino/1.pkl\")\n",
    "y = joblib.load(\"/home/aanax/Desktop/kino/2.pkl\")\n",
    "y_test = joblib.load(\"/home/aanax/Desktop/kino/3.pkl\")"
   ]
  },
  {
   "cell_type": "code",
   "execution_count": 4,
   "metadata": {
    "collapsed": false
   },
   "outputs": [],
   "source": [
    "def showpic(digit,multiplier=1,size=200):\n",
    "    tstimage1= Image.fromarray(digit.reshape((30,20)) * multiplier)\n",
    "    tstimage1 = tstimage1.convert('L')\n",
    "    tstimage1 = tstimage1.resize((size,size))\n",
    "    tstimage1.show()"
   ]
  },
  {
   "cell_type": "code",
   "execution_count": 7,
   "metadata": {
    "collapsed": false
   },
   "outputs": [],
   "source": [
    "def crop_showpic(digit,multiplier=1,size=200):\n",
    "    tstimage1= Image.fromarray(digit.reshape((20,20)) * multiplier)\n",
    "    tstimage1 = tstimage1.convert('L')\n",
    "    tstimage1 = tstimage1.resize((size,size))\n",
    "    tstimage1.show()"
   ]
  },
  {
   "cell_type": "code",
   "execution_count": 9,
   "metadata": {
    "collapsed": false
   },
   "outputs": [],
   "source": [
    "showpic(X[5])"
   ]
  },
  {
   "cell_type": "code",
   "execution_count": 59,
   "metadata": {
    "collapsed": true
   },
   "outputs": [],
   "source": [
    "means = []\n",
    "for pic in X:\n",
    "    means.append(np.array(pic).mean())"
   ]
  },
  {
   "cell_type": "code",
   "execution_count": 82,
   "metadata": {
    "collapsed": false
   },
   "outputs": [],
   "source": [
    "# test dummy solution (nearly 0.6 acc on test)\n",
    "test_p = []\n",
    "for me in means:\n",
    "    if me > 159:\n",
    "        test_p.append(2)\n",
    "    else:\n",
    "        test_p.append(1)"
   ]
  },
  {
   "cell_type": "code",
   "execution_count": 14,
   "metadata": {
    "collapsed": false
   },
   "outputs": [],
   "source": [
    "def eval(test_p,y,ver,wrong):\n",
    "    t = 0 #true\n",
    "    fp=0 # false positive \n",
    "    fn=0 # false negative\n",
    "    tp=0 # true positive\n",
    "    tn=0 # true negative\n",
    "    fals = max(y)\n",
    "    tru =min(y)\n",
    "    kkk = -1 # counter\n",
    "    for i,j in zip(test_p,y):\n",
    "        kkk+=1\n",
    "        if i==j:\n",
    "            t+=1\n",
    "            if i > tru:\n",
    "                tn +=1\n",
    "            if i < fals:\n",
    "                tp+=1\n",
    "        if i>j:\n",
    "            fn+=1\n",
    "            wrong.append(kkk)\n",
    "        if i<j:\n",
    "            fp+=1\n",
    "            wrong.append(kkk)\n",
    "    if ver!=0:\n",
    "        print(\" fn \",fn,\" fp \",fp,\" tn \",tn,\" tp \",tp,\" acc \",float(t)/len(y))\n",
    "\n",
    "    return (float(t)/len(y))"
   ]
  },
  {
   "cell_type": "code",
   "execution_count": 307,
   "metadata": {
    "collapsed": true
   },
   "outputs": [],
   "source": [
    "grads = []\n",
    "for pic in X:\n",
    "    grads.append(np.gradient(pic,2))\n",
    "    \n",
    "grads_test = []\n",
    "for pic in X_test:\n",
    "    grads_test.append(np.gradient(pic,2))"
   ]
  },
  {
   "cell_type": "code",
   "execution_count": 15,
   "metadata": {
    "collapsed": false
   },
   "outputs": [],
   "source": [
    "def threshme(test_p,X,thresh):\n",
    "    for me in X:\n",
    "        if me < thresh:\n",
    "            test_p.append(2)\n",
    "        else:\n",
    "            test_p.append(1)"
   ]
  },
  {
   "cell_type": "code",
   "execution_count": 67,
   "metadata": {
    "collapsed": false
   },
   "outputs": [
    {
     "name": "stderr",
     "output_type": "stream",
     "text": [
      "/home/aanax/anaconda3/lib/python3.5/site-packages/sklearn/cross_validation.py:44: DeprecationWarning: This module was deprecated in version 0.18 in favor of the model_selection module into which all the refactored classes and functions are moved. Also note that the interface of the new CV iterators are different from that of this module. This module will be removed in 0.20.\n",
      "  \"This module will be removed in 0.20.\", DeprecationWarning)\n"
     ]
    }
   ],
   "source": [
    "import xgboost as xgb\n"
   ]
  },
  {
   "cell_type": "code",
   "execution_count": 377,
   "metadata": {
    "collapsed": false
   },
   "outputs": [
    {
     "name": "stdout",
     "output_type": "stream",
     "text": [
      "[0]\tval_0-auc:0.838424\n",
      "Will train until val_0-auc hasn't improved in 50 rounds.\n",
      "Stopping. Best iteration:\n",
      "[4]\tval_0-auc:0.87122\n",
      "\n"
     ]
    }
   ],
   "source": [
    "\n",
    "boosters = []\n",
    "n_boosters = 1\n",
    "\n",
    "for i in range(0, n_boosters):\n",
    "    #Xtr, Xval, Ytr, Yval = train_test_split(X_train, Y_train, test_size=0.2)#,random_state=4455)\n",
    "    dmat_train = xgb.DMatrix(X, np.array(y)-1)\n",
    "    dmat_test = xgb.DMatrix(X_test, np.array(y_test)-1)\n",
    "    \n",
    "    params = {\"objective\": \"binary:logistic\",\n",
    "              \n",
    "          \"eta\": 0.001,\n",
    "          \"max_depth\": 5,\n",
    "          \"eval_metric\": \"auc\", }\n",
    "    bst1 = xgb.train(dtrain=dmat_train, params=params, num_boost_round=100000, early_stopping_rounds=50, verbose_eval=100, evals=[(dmat_test, \"val_0\")])\n",
    "    \n",
    "    boosters.append(bst)"
   ]
  },
  {
   "cell_type": "code",
   "execution_count": 568,
   "metadata": {
    "collapsed": true
   },
   "outputs": [],
   "source": [
    "grads = []\n",
    "grads_test = []\n",
    "gradssums = []\n",
    "for pic in X:\n",
    "    gradssums.append(list(np.gradient(pic,2)) + [pic.sum()])\n",
    "gradssums_test = []\n",
    "for pic in X_test:\n",
    "    gradssums_test.append(list(np.gradient(pic,2)) + [pic.sum()])\n",
    "        "
   ]
  },
  {
   "cell_type": "code",
   "execution_count": 573,
   "metadata": {
    "collapsed": true
   },
   "outputs": [],
   "source": [
    "gradssums = np.array(gradssums)\n",
    "gradssums_test = np.array(gradssums_test)"
   ]
  },
  {
   "cell_type": "code",
   "execution_count": 30,
   "metadata": {
    "collapsed": false
   },
   "outputs": [],
   "source": [
    "allx = np.vstack((X,X_test)) "
   ]
  },
  {
   "cell_type": "code",
   "execution_count": 100,
   "metadata": {
    "collapsed": false
   },
   "outputs": [],
   "source": [
    "y_tst = y_test\n",
    "ones = list(y_tst).count(1)\n",
    "twos = list(y_tst).count(2)\n",
    "nones = 0\n",
    "ntwos = 0\n",
    "todel = []\n",
    "for i in range(len(y_tst)):\n",
    "    #if y_test[i] == 1:\n",
    "    #    nones += 1\n",
    "    if y_test[i] == 2:\n",
    "        ntwos += 1\n",
    "        if ntwos > ones:\n",
    "            todel.append(i)\n",
    "y_tst = np.delete(y_tst,todel)\n",
    "X_tst = np.delete(X_test,todel,0)        \n",
    "    "
   ]
  },
  {
   "cell_type": "code",
   "execution_count": 101,
   "metadata": {
    "collapsed": false
   },
   "outputs": [],
   "source": [
    "ones = list(y_tst).count(1)\n",
    "twos = list(y_tst).count(2)"
   ]
  },
  {
   "cell_type": "code",
   "execution_count": 141,
   "metadata": {
    "collapsed": true
   },
   "outputs": [],
   "source": [
    "# import the necessary packages\n",
    "from skimage import feature\n",
    "import numpy as np\n",
    " \n",
    "class LocalBinaryPatterns:\n",
    "\tdef __init__(self, numPoints, radius):\n",
    "\t\t# store the number of points and radius\n",
    "\t\tself.numPoints = numPoints\n",
    "\t\tself.radius = radius\n",
    " \n",
    "\tdef describe(self, image, eps=1e-7):\n",
    "\t\t# compute the Local Binary Pattern representation\n",
    "\t\t# of the image, and then use the LBP representation\n",
    "\t\t# to build the histogram of patterns\n",
    "\t\tlbp = feature.local_binary_pattern(image, self.numPoints,\n",
    "\t\t\tself.radius, method=\"uniform\")\n",
    "\t\t(hist, _) = np.histogram(lbp.ravel(),\n",
    "\t\t\tbins=np.arange(0, self.numPoints + 3),\n",
    "\t\t\trange=(0, self.numPoints + 2))\n",
    " \n",
    "\t\t# normalize the histogram\n",
    "\t\thist = hist.astype(\"float\")\n",
    "\t\thist /= (hist.sum() + eps)\n",
    " \n",
    "\t\t# return the histogram of Local Binary Patterns\n",
    "\t\treturn hist"
   ]
  },
  {
   "cell_type": "code",
   "execution_count": 142,
   "metadata": {
    "collapsed": true
   },
   "outputs": [],
   "source": [
    "desc = LocalBinaryPatterns(24, 8)"
   ]
  },
  {
   "cell_type": "code",
   "execution_count": 145,
   "metadata": {
    "collapsed": false
   },
   "outputs": [],
   "source": [
    "hist = desc.describe(X[0].reshape((30,20)))"
   ]
  },
  {
   "cell_type": "code",
   "execution_count": 155,
   "metadata": {
    "collapsed": false
   },
   "outputs": [],
   "source": [
    "grads = []\n",
    "for pic in X:\n",
    "    grads.append(list(np.gradient(pic, 1)) + [ndimage.fourier.fourier_ellipsoid(pic,3).sum(),ndimage.center_of_mass(pic)[0], ndimage.extrema(pic)[3][0], pic.reshape((30,20)).diagonal().sum(), pic.reshape((30,20)).diagonal(offset=1).sum() ] + list(ndimage.gaussian_laplace(pic,2.7))   )#+ list(desc.describe(pic.reshape((30,20)))))\n",
    "    \n",
    "grads_test = []\n",
    "for pic in X_tst:\n",
    "    grads_test.append(list(np.gradient(pic, 1))+ [ndimage.fourier.fourier_ellipsoid(pic,3).sum(), ndimage.center_of_mass(pic)[0], ndimage.extrema(pic)[2][0], pic.reshape((30,20)).diagonal().sum(), pic.reshape((30,20)).diagonal(offset=1).sum()] + list(ndimage.gaussian_laplace(pic,2.7)) ) # + list(desc.describe(pic.reshape((30,20)))) )"
   ]
  },
  {
   "cell_type": "code",
   "execution_count": 134,
   "metadata": {
    "collapsed": false
   },
   "outputs": [
    {
     "data": {
      "text/plain": [
       "array([ 78, 105, 147, 159, 162, 166, 166, 159, 148, 134, 130, 123, 121,\n",
       "       122, 121, 120, 131, 134, 137, 139], dtype=uint8)"
      ]
     },
     "execution_count": 134,
     "metadata": {},
     "output_type": "execute_result"
    }
   ],
   "source": [
    "X[0].reshape((30,20)).diagonal(offset = 1,axis1=1,axis2=0)"
   ]
  },
  {
   "cell_type": "code",
   "execution_count": 858,
   "metadata": {
    "collapsed": false
   },
   "outputs": [],
   "source": [
    "showpic(X[0])\n",
    "showpic(ndimage.gaussian_laplace(X[0],2.5))"
   ]
  },
  {
   "cell_type": "code",
   "execution_count": 156,
   "metadata": {
    "collapsed": false
   },
   "outputs": [],
   "source": [
    "grads = np.array(grads)\n",
    "grads_test = np.array(grads_test)"
   ]
  },
  {
   "cell_type": "code",
   "execution_count": 17,
   "metadata": {
    "collapsed": true
   },
   "outputs": [],
   "source": [
    "from scipy import ndimage #import filters"
   ]
  },
  {
   "cell_type": "code",
   "execution_count": 157,
   "metadata": {
    "collapsed": false
   },
   "outputs": [
    {
     "name": "stdout",
     "output_type": "stream",
     "text": [
      "[0]\tval_0-auc:0.985873\n",
      "Will train until val_0-auc hasn't improved in 50 rounds.\n",
      "[100]\tval_0-auc:0.996676\n",
      "Stopping. Best iteration:\n",
      "[113]\tval_0-auc:0.997895\n",
      "\n"
     ]
    }
   ],
   "source": [
    "from sklearn.model_selection import train_test_split\n",
    "boosters = []\n",
    "n_boosters = 1\n",
    "\n",
    "for i in range(0, n_boosters):\n",
    "    #Xtr, Xval, Ytr, Yval = train_test_split(grads, np.array(y)-1, test_size=0.2)#,random_state=4455)\n",
    "    dmat_train = xgb.DMatrix(grads, np.array(y)-1)\n",
    "    dmat_test = xgb.DMatrix((grads_test), np.array(y_tst)-1)\n",
    "        \n",
    "    params = {\"objective\": \"binary:logistic\",\n",
    "                \n",
    "          \"eta\": 0.001,\n",
    "          \"lambda\": 5,\n",
    "          \"alpha\": 5,\n",
    "          \"max_depth\": 10,\n",
    "          \"eval_metric\": \"auc\", }\n",
    "    bst = xgb.train(dtrain=dmat_train, params=params, num_boost_round=100000, early_stopping_rounds=50, verbose_eval=100, evals=[(dmat_test, \"val_0\")])\n",
    "    \n",
    "    boosters.append(bst)"
   ]
  },
  {
   "cell_type": "code",
   "execution_count": 158,
   "metadata": {
    "collapsed": false
   },
   "outputs": [],
   "source": [
    "preds = np.array([bst.predict(xgb.DMatrix(grads_test)) for bst in boosters])\n",
    "preds = np.mean(preds, axis=0)"
   ]
  },
  {
   "cell_type": "code",
   "execution_count": 159,
   "metadata": {
    "collapsed": false
   },
   "outputs": [],
   "source": [
    "p=[]\n",
    "threshme(p,preds,0.5)"
   ]
  },
  {
   "cell_type": "code",
   "execution_count": 160,
   "metadata": {
    "collapsed": false
   },
   "outputs": [
    {
     "name": "stdout",
     "output_type": "stream",
     "text": [
      " fn  0  fp  6  tn  89  tp  95  acc  0.968421052631579\n"
     ]
    },
    {
     "data": {
      "text/plain": [
       "0.968421052631579"
      ]
     },
     "execution_count": 160,
     "metadata": {},
     "output_type": "execute_result"
    }
   ],
   "source": [
    "# evaluate xgboost and remember misclassified examples to look at them\n",
    "wrong=[]\n",
    "eval(np.array(p)-1,(np.array(y_tst)-2)*-1,1,wrong)"
   ]
  },
  {
   "cell_type": "code",
   "execution_count": 164,
   "metadata": {
    "collapsed": true
   },
   "outputs": [],
   "source": [
    "for i in wrong:\n",
    "    showpic(X[i])"
   ]
  },
  {
   "cell_type": "code",
   "execution_count": null,
   "metadata": {
    "collapsed": true
   },
   "outputs": [],
   "source": [
    "#TRY ANSAMBLE WITH GRADSSUMS"
   ]
  },
  {
   "cell_type": "code",
   "execution_count": null,
   "metadata": {
    "collapsed": true
   },
   "outputs": [],
   "source": []
  }
 ],
 "metadata": {
  "anaconda-cloud": {},
  "kernelspec": {
   "display_name": "Python 2",
   "language": "python",
   "name": "python2"
  },
  "language_info": {
   "codemirror_mode": {
    "name": "ipython",
    "version": 2
   },
   "file_extension": ".py",
   "mimetype": "text/x-python",
   "name": "python",
   "nbconvert_exporter": "python",
   "pygments_lexer": "ipython2",
   "version": "2.7.11"
  }
 },
 "nbformat": 4,
 "nbformat_minor": 0
}
