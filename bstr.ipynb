{
 "cells": [
  {
   "cell_type": "code",
   "execution_count": null,
   "metadata": {
    "collapsed": true
   },
   "outputs": [],
   "source": [
    "from scipy import ndimage\n",
    "\n",
    "\n",
    "\n",
    "\n",
    "grads = []\n",
    "for pic in X:\n",
    "    grads.append(list(np.gradient(pic, 1)) + [ndimage.fourier.fourier_ellipsoid(pic,3).sum(),ndimage.center_of_mass(pic)[0], ndimage.extrema(pic)[3][0], pic.reshape((30,20)).diagonal().sum(), pic.reshape((30,20)).diagonal(offset=1).sum() ] + list(ndimage.gaussian_laplace(pic,2.7))   )#+ list(desc.describe(pic.reshape((30,20)))))\n",
    "    \n",
    "grads_test = []\n",
    "for pic in X_tst:\n",
    "    grads_test.append(list(np.gradient(pic, 1))+ [ndimage.fourier.fourier_ellipsoid(pic,3).sum(), ndimage.center_of_mass(pic)[0], ndimage.extrema(pic)[2][0], pic.reshape((30,20)).diagonal().sum(), pic.reshape((30,20)).diagonal(offset=1).sum()] + list(ndimage.gaussian_laplace(pic,2.7)) ) # + list(desc.describe(pic.reshape((30,20)))) )\n",
    "    \n",
    "\n",
    "    \n",
    "    \n",
    "    \n",
    "    \n",
    "    \n",
    "grads = np.array(grads)#.reshape(536,600+1)\n",
    "grads_test = np.array(grads_test)#.reshape(np.array(grads_test).shape[0],1+np.array(grads_test).shape[2])\n",
    "\n",
    "\n",
    "\n",
    "\n",
    "\n",
    "\n",
    "from sklearn.model_selection import train_test_split\n",
    "boosters = []\n",
    "n_boosters = 1\n",
    "\n",
    "for i in range(0, n_boosters):\n",
    "    #Xtr, Xval, Ytr, Yval = train_test_split(grads, np.array(y)-1, test_size=0.2)#,random_state=4455)\n",
    "    dmat_train = xgb.DMatrix(grads, np.array(y)-1)\n",
    "    dmat_test = xgb.DMatrix((grads_test), np.array(y_tst)-1)\n",
    "    #dmat_train = xgb.DMatrix(Xtr,Ytr)\n",
    "    #dmat_test = xgb.DMatrix(Xval,Yval)\n",
    "        \n",
    "    params = {\"objective\": \"binary:logistic\",\n",
    "                \n",
    "          \"eta\": 0.001,\n",
    "          \"lambda\": 5,\n",
    "          \"alpha\": 5,\n",
    "          \"max_depth\": 10,\n",
    "          \"eval_metric\": \"auc\", }\n",
    "    bst = xgb.train(dtrain=dmat_train, params=params, num_boost_round=100000, early_stopping_rounds=50, verbose_eval=100, evals=[(dmat_test, \"val_0\")])\n",
    "    \n",
    "    boosters.append(bst)\n",
    "    \n",
    "    \n",
    "    \n",
    "    \n",
    "    \n",
    "preds = np.array([bst.predict(xgb.DMatrix(grads_test)) for bst in boosters])\n",
    "preds = np.mean(preds, axis=0)\n",
    "\n",
    "\n",
    "#p=[]\n",
    "#threshme(p,bst.predict(xgb.DMatrix(grads_test)),0.5)\n",
    "#threshme(p,preds,0.5)\n",
    "\n",
    "#wrong=[]\n",
    "#eval(np.array(p)-1,(np.array(y_tst)-2)*-1,1,wrong)\n"
   ]
  },
  {
   "cell_type": "code",
   "execution_count": null,
   "metadata": {
    "collapsed": true
   },
   "outputs": [],
   "source": []
  }
 ],
 "metadata": {
  "kernelspec": {
   "display_name": "Python 3",
   "language": "python",
   "name": "python3"
  },
  "language_info": {
   "codemirror_mode": {
    "name": "ipython",
    "version": 3
   },
   "file_extension": ".py",
   "mimetype": "text/x-python",
   "name": "python",
   "nbconvert_exporter": "python",
   "pygments_lexer": "ipython3",
   "version": "3.5.2"
  }
 },
 "nbformat": 4,
 "nbformat_minor": 0
}
